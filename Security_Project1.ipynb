{
 "cells": [
  {
   "cell_type": "code",
   "execution_count": 1,
   "metadata": {
    "colab": {
     "base_uri": "https://localhost:8080/"
    },
    "id": "f70kM6B5HE2G",
    "outputId": "4060bcc1-3fed-4aec-f232-1573f18e4bbf"
   },
   "outputs": [
    {
     "name": "stdout",
     "output_type": "stream",
     "text": [
      "Drive already mounted at /content/drive; to attempt to forcibly remount, call drive.mount(\"/content/drive\", force_remount=True).\n"
     ]
    }
   ],
   "source": [
    "from google.colab import drive\n",
    "\n",
    "drive_path = '/content/drive'\n",
    "drive.mount(drive_path)"
   ]
  },
  {
   "cell_type": "code",
   "execution_count": 2,
   "metadata": {
    "colab": {
     "base_uri": "https://localhost:8080/"
    },
    "id": "fAEQ51OHHcAD",
    "outputId": "2c585b41-292a-4cd7-d6f8-8abed48e4752",
    "scrolled": false
   },
   "outputs": [
    {
     "name": "stdout",
     "output_type": "stream",
     "text": [
      "\n",
      "7-Zip [64] 16.02 : Copyright (c) 1999-2016 Igor Pavlov : 2016-05-21\n",
      "p7zip Version 16.02 (locale=en_US.UTF-8,Utf16=on,HugeFiles=on,64 bits,2 CPUs Intel(R) Xeon(R) CPU @ 2.20GHz (406F0),ASM,AES-NI)\n",
      "\n",
      "Scanning the drive for archives:\n",
      "  0M Scan /content/drive/MyDrive/\b\b\b\b\b\b\b\b\b\b\b\b\b\b\b\b\b\b\b\b\b\b\b\b\b\b\b\b\b\b\b\b\b                                 \b\b\b\b\b\b\b\b\b\b\b\b\b\b\b\b\b\b\b\b\b\b\b\b\b\b\b\b\b\b\b\b\b1 file, 178076816 bytes (170 MiB)\n",
      "\n",
      "Extracting archive: /content/drive/MyDrive/2022_security_project1.zip\n",
      "--\n",
      "Path = /content/drive/MyDrive/2022_security_project1.zip\n",
      "Type = zip\n",
      "Physical Size = 178076816\n",
      "\n",
      "  0%\b\b\b\b    \b\b\b\b\n",
      "Would you like to replace the existing file:\n",
      "  Path:     ./Security Project1/BCE_model.py\n",
      "  Size:     2858 bytes (3 KiB)\n",
      "  Modified: 2022-11-02 01:57:33\n",
      "with the file from archive:\n",
      "  Path:     Security Project1/BCE_model.py\n",
      "  Size:     2858 bytes (3 KiB)\n",
      "  Modified: 2022-11-02 01:57:33\n",
      "? (Y)es / (N)o / (A)lways / (S)kip all / A(u)to rename all / (Q)uit? s\n",
      "\n",
      "  0% 1\b\b\b\b\b\b      \b\b\b\b\b\bEverything is Ok\n",
      "\n",
      "Folders: 4\n",
      "Files: 0\n",
      "Size:       0\n",
      "Compressed: 178076816\n"
     ]
    }
   ],
   "source": [
    "!7z x /content/drive/MyDrive/2022_security_project1.zip"
   ]
  },
  {
   "cell_type": "code",
   "execution_count": 3,
   "metadata": {
    "colab": {
     "base_uri": "https://localhost:8080/"
    },
    "id": "cPq6fU9dFsQq",
    "outputId": "32fc5eb7-29ef-4b41-c3cd-9f2769e14569"
   },
   "outputs": [
    {
     "name": "stdout",
     "output_type": "stream",
     "text": [
      "/content/Security Project1\n"
     ]
    }
   ],
   "source": [
    "%cd \"./Security Project1\""
   ]
  },
  {
   "cell_type": "code",
   "execution_count": 4,
   "metadata": {
    "id": "rY5Adez8HDTz"
   },
   "outputs": [],
   "source": [
    "from Utils import open_pickle\n",
    "import pandas as pd\n",
    "import numpy as np"
   ]
  },
  {
   "cell_type": "code",
   "execution_count": 5,
   "metadata": {
    "id": "KfaBhPp_HDT3"
   },
   "outputs": [],
   "source": [
    "train_path = r\"./train.csv\"\n",
    "valid_path = r\"./valid.csv\"\n",
    "\n",
    "train_df = pd.read_csv(train_path)\n",
    "valid_df = pd.read_csv(valid_path)"
   ]
  },
  {
   "cell_type": "code",
   "execution_count": 6,
   "metadata": {
    "colab": {
     "base_uri": "https://localhost:8080/"
    },
    "id": "NvNfhIhwHDT3",
    "outputId": "c8b37c17-3793-4c91-ba64-fffb4838afba"
   },
   "outputs": [
    {
     "name": "stdout",
     "output_type": "stream",
     "text": [
      "977270 325560\n"
     ]
    }
   ],
   "source": [
    "# 학습, 검증 플로우 데이터 개수 확인\n",
    "print(len(train_df), len(valid_df))"
   ]
  },
  {
   "cell_type": "code",
   "execution_count": 7,
   "metadata": {
    "colab": {
     "base_uri": "https://localhost:8080/"
    },
    "id": "s_3M-0u1HDT4",
    "outputId": "c6a82468-8070-4333-b3cf-c2c80d4d69cd",
    "scrolled": true
   },
   "outputs": [
    {
     "data": {
      "text/plain": [
       "Index(['Src IP', 'Src Port', 'Dst IP', 'Dst Port', 'Protocol', 'Flags',\n",
       "       'Timestamp', 'Flow Duration', 'Total Fwd Packet', 'Total Bwd packets',\n",
       "       'Total Length of Fwd Packet', 'Total Length of Bwd Packet',\n",
       "       'Fwd Packet Length Max', 'Fwd Packet Length Min',\n",
       "       'Fwd Packet Length Std', 'Bwd Packet Length Max',\n",
       "       'Bwd Packet Length Min', 'Bwd Packet Length Std', 'Flow IAT Mean',\n",
       "       'Flow IAT Std', 'Flow IAT Max', 'Flow IAT Min', 'Fwd IAT Total',\n",
       "       'Fwd IAT Mean', 'Fwd IAT Std', 'Fwd IAT Max', 'Fwd IAT Min',\n",
       "       'Bwd IAT Total', 'Bwd IAT Mean', 'Bwd IAT Std', 'Bwd IAT Max',\n",
       "       'Bwd IAT Min', 'Fwd Header Length', 'Bwd Header Length',\n",
       "       'Packet Length Min', 'Packet Length Max', 'Packet Length Std',\n",
       "       'Packet Length Variance', 'Average Packet Size', 'Fwd Segment Size Avg',\n",
       "       'Bwd Segment Size Avg', 'FWD Init Win Bytes', 'Bwd Init Win Bytes',\n",
       "       'Fwd Act Data Pkts', 'Fwd Seg Size Min', 'Active Mean', 'Active Std',\n",
       "       'Active Max', 'Active Min', 'Idle Mean', 'Idle Std', 'Idle Max',\n",
       "       'Idle Min', 'Label'],\n",
       "      dtype='object')"
      ]
     },
     "execution_count": 7,
     "metadata": {},
     "output_type": "execute_result"
    }
   ],
   "source": [
    "# 주어진 플로우 컬럼 종류 확인\n",
    "train_df.keys()"
   ]
  },
  {
   "cell_type": "code",
   "execution_count": 8,
   "metadata": {
    "colab": {
     "base_uri": "https://localhost:8080/",
     "height": 352
    },
    "id": "CGgOGVVmHDT5",
    "outputId": "68785368-d78d-4665-ebb7-28965e2ab53a"
   },
   "outputs": [
    {
     "data": {
      "text/html": [
       "\n",
       "  <div id=\"df-11d7b643-caf7-465c-9b14-4930da2d70c5\">\n",
       "    <div class=\"colab-df-container\">\n",
       "      <div>\n",
       "<style scoped>\n",
       "    .dataframe tbody tr th:only-of-type {\n",
       "        vertical-align: middle;\n",
       "    }\n",
       "\n",
       "    .dataframe tbody tr th {\n",
       "        vertical-align: top;\n",
       "    }\n",
       "\n",
       "    .dataframe thead th {\n",
       "        text-align: right;\n",
       "    }\n",
       "</style>\n",
       "<table border=\"1\" class=\"dataframe\">\n",
       "  <thead>\n",
       "    <tr style=\"text-align: right;\">\n",
       "      <th></th>\n",
       "      <th>Src IP</th>\n",
       "      <th>Src Port</th>\n",
       "      <th>Dst IP</th>\n",
       "      <th>Dst Port</th>\n",
       "      <th>Protocol</th>\n",
       "      <th>Flags</th>\n",
       "      <th>Timestamp</th>\n",
       "      <th>Flow Duration</th>\n",
       "      <th>Total Fwd Packet</th>\n",
       "      <th>Total Bwd packets</th>\n",
       "      <th>...</th>\n",
       "      <th>Fwd Seg Size Min</th>\n",
       "      <th>Active Mean</th>\n",
       "      <th>Active Std</th>\n",
       "      <th>Active Max</th>\n",
       "      <th>Active Min</th>\n",
       "      <th>Idle Mean</th>\n",
       "      <th>Idle Std</th>\n",
       "      <th>Idle Max</th>\n",
       "      <th>Idle Min</th>\n",
       "      <th>Label</th>\n",
       "    </tr>\n",
       "  </thead>\n",
       "  <tbody>\n",
       "    <tr>\n",
       "      <th>0</th>\n",
       "      <td>110.15.155.169</td>\n",
       "      <td>13850</td>\n",
       "      <td>97.2.159.1</td>\n",
       "      <td>53</td>\n",
       "      <td>TCP</td>\n",
       "      <td>......S.</td>\n",
       "      <td>03:52:00</td>\n",
       "      <td>3119967</td>\n",
       "      <td>3</td>\n",
       "      <td>0</td>\n",
       "      <td>...</td>\n",
       "      <td>40</td>\n",
       "      <td>0.0</td>\n",
       "      <td>0.0</td>\n",
       "      <td>0.0</td>\n",
       "      <td>0.0</td>\n",
       "      <td>0.0</td>\n",
       "      <td>0.0</td>\n",
       "      <td>0.0</td>\n",
       "      <td>0.0</td>\n",
       "      <td>Benign_IP</td>\n",
       "    </tr>\n",
       "    <tr>\n",
       "      <th>1</th>\n",
       "      <td>110.15.155.169</td>\n",
       "      <td>43842</td>\n",
       "      <td>97.2.159.1</td>\n",
       "      <td>53</td>\n",
       "      <td>TCP</td>\n",
       "      <td>......S.</td>\n",
       "      <td>03:37:20</td>\n",
       "      <td>2991830</td>\n",
       "      <td>3</td>\n",
       "      <td>0</td>\n",
       "      <td>...</td>\n",
       "      <td>40</td>\n",
       "      <td>0.0</td>\n",
       "      <td>0.0</td>\n",
       "      <td>0.0</td>\n",
       "      <td>0.0</td>\n",
       "      <td>0.0</td>\n",
       "      <td>0.0</td>\n",
       "      <td>0.0</td>\n",
       "      <td>0.0</td>\n",
       "      <td>Benign_IP</td>\n",
       "    </tr>\n",
       "    <tr>\n",
       "      <th>2</th>\n",
       "      <td>110.15.155.171</td>\n",
       "      <td>25918</td>\n",
       "      <td>97.2.159.1</td>\n",
       "      <td>53</td>\n",
       "      <td>TCP</td>\n",
       "      <td>......S.</td>\n",
       "      <td>03:10:28</td>\n",
       "      <td>3004658</td>\n",
       "      <td>3</td>\n",
       "      <td>0</td>\n",
       "      <td>...</td>\n",
       "      <td>40</td>\n",
       "      <td>0.0</td>\n",
       "      <td>0.0</td>\n",
       "      <td>0.0</td>\n",
       "      <td>0.0</td>\n",
       "      <td>0.0</td>\n",
       "      <td>0.0</td>\n",
       "      <td>0.0</td>\n",
       "      <td>0.0</td>\n",
       "      <td>Benign_IP</td>\n",
       "    </tr>\n",
       "    <tr>\n",
       "      <th>3</th>\n",
       "      <td>238.61.97.110</td>\n",
       "      <td>4445</td>\n",
       "      <td>97.2.159.1</td>\n",
       "      <td>53</td>\n",
       "      <td>TCP</td>\n",
       "      <td>...A...F</td>\n",
       "      <td>00:42:24</td>\n",
       "      <td>4402645</td>\n",
       "      <td>2</td>\n",
       "      <td>1</td>\n",
       "      <td>...</td>\n",
       "      <td>20</td>\n",
       "      <td>0.0</td>\n",
       "      <td>0.0</td>\n",
       "      <td>0.0</td>\n",
       "      <td>0.0</td>\n",
       "      <td>0.0</td>\n",
       "      <td>0.0</td>\n",
       "      <td>0.0</td>\n",
       "      <td>0.0</td>\n",
       "      <td>Benign_IP</td>\n",
       "    </tr>\n",
       "    <tr>\n",
       "      <th>4</th>\n",
       "      <td>110.15.155.171</td>\n",
       "      <td>28467</td>\n",
       "      <td>97.2.159.1</td>\n",
       "      <td>53</td>\n",
       "      <td>TCP</td>\n",
       "      <td>......S.</td>\n",
       "      <td>02:45:28</td>\n",
       "      <td>3001784</td>\n",
       "      <td>3</td>\n",
       "      <td>0</td>\n",
       "      <td>...</td>\n",
       "      <td>40</td>\n",
       "      <td>0.0</td>\n",
       "      <td>0.0</td>\n",
       "      <td>0.0</td>\n",
       "      <td>0.0</td>\n",
       "      <td>0.0</td>\n",
       "      <td>0.0</td>\n",
       "      <td>0.0</td>\n",
       "      <td>0.0</td>\n",
       "      <td>Benign_IP</td>\n",
       "    </tr>\n",
       "  </tbody>\n",
       "</table>\n",
       "<p>5 rows × 54 columns</p>\n",
       "</div>\n",
       "      <button class=\"colab-df-convert\" onclick=\"convertToInteractive('df-11d7b643-caf7-465c-9b14-4930da2d70c5')\"\n",
       "              title=\"Convert this dataframe to an interactive table.\"\n",
       "              style=\"display:none;\">\n",
       "        \n",
       "  <svg xmlns=\"http://www.w3.org/2000/svg\" height=\"24px\"viewBox=\"0 0 24 24\"\n",
       "       width=\"24px\">\n",
       "    <path d=\"M0 0h24v24H0V0z\" fill=\"none\"/>\n",
       "    <path d=\"M18.56 5.44l.94 2.06.94-2.06 2.06-.94-2.06-.94-.94-2.06-.94 2.06-2.06.94zm-11 1L8.5 8.5l.94-2.06 2.06-.94-2.06-.94L8.5 2.5l-.94 2.06-2.06.94zm10 10l.94 2.06.94-2.06 2.06-.94-2.06-.94-.94-2.06-.94 2.06-2.06.94z\"/><path d=\"M17.41 7.96l-1.37-1.37c-.4-.4-.92-.59-1.43-.59-.52 0-1.04.2-1.43.59L10.3 9.45l-7.72 7.72c-.78.78-.78 2.05 0 2.83L4 21.41c.39.39.9.59 1.41.59.51 0 1.02-.2 1.41-.59l7.78-7.78 2.81-2.81c.8-.78.8-2.07 0-2.86zM5.41 20L4 18.59l7.72-7.72 1.47 1.35L5.41 20z\"/>\n",
       "  </svg>\n",
       "      </button>\n",
       "      \n",
       "  <style>\n",
       "    .colab-df-container {\n",
       "      display:flex;\n",
       "      flex-wrap:wrap;\n",
       "      gap: 12px;\n",
       "    }\n",
       "\n",
       "    .colab-df-convert {\n",
       "      background-color: #E8F0FE;\n",
       "      border: none;\n",
       "      border-radius: 50%;\n",
       "      cursor: pointer;\n",
       "      display: none;\n",
       "      fill: #1967D2;\n",
       "      height: 32px;\n",
       "      padding: 0 0 0 0;\n",
       "      width: 32px;\n",
       "    }\n",
       "\n",
       "    .colab-df-convert:hover {\n",
       "      background-color: #E2EBFA;\n",
       "      box-shadow: 0px 1px 2px rgba(60, 64, 67, 0.3), 0px 1px 3px 1px rgba(60, 64, 67, 0.15);\n",
       "      fill: #174EA6;\n",
       "    }\n",
       "\n",
       "    [theme=dark] .colab-df-convert {\n",
       "      background-color: #3B4455;\n",
       "      fill: #D2E3FC;\n",
       "    }\n",
       "\n",
       "    [theme=dark] .colab-df-convert:hover {\n",
       "      background-color: #434B5C;\n",
       "      box-shadow: 0px 1px 3px 1px rgba(0, 0, 0, 0.15);\n",
       "      filter: drop-shadow(0px 1px 2px rgba(0, 0, 0, 0.3));\n",
       "      fill: #FFFFFF;\n",
       "    }\n",
       "  </style>\n",
       "\n",
       "      <script>\n",
       "        const buttonEl =\n",
       "          document.querySelector('#df-11d7b643-caf7-465c-9b14-4930da2d70c5 button.colab-df-convert');\n",
       "        buttonEl.style.display =\n",
       "          google.colab.kernel.accessAllowed ? 'block' : 'none';\n",
       "\n",
       "        async function convertToInteractive(key) {\n",
       "          const element = document.querySelector('#df-11d7b643-caf7-465c-9b14-4930da2d70c5');\n",
       "          const dataTable =\n",
       "            await google.colab.kernel.invokeFunction('convertToInteractive',\n",
       "                                                     [key], {});\n",
       "          if (!dataTable) return;\n",
       "\n",
       "          const docLinkHtml = 'Like what you see? Visit the ' +\n",
       "            '<a target=\"_blank\" href=https://colab.research.google.com/notebooks/data_table.ipynb>data table notebook</a>'\n",
       "            + ' to learn more about interactive tables.';\n",
       "          element.innerHTML = '';\n",
       "          dataTable['output_type'] = 'display_data';\n",
       "          await google.colab.output.renderOutput(dataTable, element);\n",
       "          const docLink = document.createElement('div');\n",
       "          docLink.innerHTML = docLinkHtml;\n",
       "          element.appendChild(docLink);\n",
       "        }\n",
       "      </script>\n",
       "    </div>\n",
       "  </div>\n",
       "  "
      ],
      "text/plain": [
       "           Src IP  Src Port      Dst IP  Dst Port Protocol     Flags  \\\n",
       "0  110.15.155.169     13850  97.2.159.1        53      TCP  ......S.   \n",
       "1  110.15.155.169     43842  97.2.159.1        53      TCP  ......S.   \n",
       "2  110.15.155.171     25918  97.2.159.1        53      TCP  ......S.   \n",
       "3   238.61.97.110      4445  97.2.159.1        53      TCP  ...A...F   \n",
       "4  110.15.155.171     28467  97.2.159.1        53      TCP  ......S.   \n",
       "\n",
       "  Timestamp  Flow Duration  Total Fwd Packet  Total Bwd packets  ...  \\\n",
       "0  03:52:00        3119967                 3                  0  ...   \n",
       "1  03:37:20        2991830                 3                  0  ...   \n",
       "2  03:10:28        3004658                 3                  0  ...   \n",
       "3  00:42:24        4402645                 2                  1  ...   \n",
       "4  02:45:28        3001784                 3                  0  ...   \n",
       "\n",
       "   Fwd Seg Size Min  Active Mean  Active Std  Active Max  Active Min  \\\n",
       "0                40          0.0         0.0         0.0         0.0   \n",
       "1                40          0.0         0.0         0.0         0.0   \n",
       "2                40          0.0         0.0         0.0         0.0   \n",
       "3                20          0.0         0.0         0.0         0.0   \n",
       "4                40          0.0         0.0         0.0         0.0   \n",
       "\n",
       "   Idle Mean  Idle Std  Idle Max  Idle Min      Label  \n",
       "0        0.0       0.0       0.0       0.0  Benign_IP  \n",
       "1        0.0       0.0       0.0       0.0  Benign_IP  \n",
       "2        0.0       0.0       0.0       0.0  Benign_IP  \n",
       "3        0.0       0.0       0.0       0.0  Benign_IP  \n",
       "4        0.0       0.0       0.0       0.0  Benign_IP  \n",
       "\n",
       "[5 rows x 54 columns]"
      ]
     },
     "execution_count": 8,
     "metadata": {},
     "output_type": "execute_result"
    }
   ],
   "source": [
    "# 데이터 확인\n",
    "train_df.head(5)"
   ]
  },
  {
   "cell_type": "code",
   "execution_count": 9,
   "metadata": {
    "id": "JOg9UcqgHDT6"
   },
   "outputs": [],
   "source": [
    "#TODO1\n",
    "train_df[\"Label\"].replace('Benign_IP', 0, inplace=True)\n",
    "train_df[\"Label\"].replace('Attack_IP', 1, inplace=True)\n",
    "valid_df[\"Label\"].replace('Benign_IP', 0, inplace=True)\n",
    "valid_df[\"Label\"].replace('Attack_IP', 1, inplace=True)\n",
    "train_y = train_df[\"Label\"].values.tolist()\n",
    "valid_y = valid_df[\"Label\"].values.tolist()\n",
    "\n",
    "train_list = train_df.drop(columns = [\"Src IP\", \"Dst IP\", \"Protocol\", \"Timestamp\", \"Flags\", \"Label\"]).values.tolist() \n",
    "valid_list = valid_df.drop(columns = [\"Src IP\", \"Dst IP\", \"Protocol\", \"Timestamp\", \"Flags\", \"Label\"]).values.tolist()"
   ]
  },
  {
   "cell_type": "code",
   "execution_count": 10,
   "metadata": {
    "colab": {
     "base_uri": "https://localhost:8080/"
    },
    "id": "IlcKPugZHDT7",
    "outputId": "e7655a62-bab5-4ed0-ef7a-9e4a17063158"
   },
   "outputs": [
    {
     "name": "stdout",
     "output_type": "stream",
     "text": [
      "Problem #1 Solved\n"
     ]
    }
   ],
   "source": [
    "# Problem 2~를 실행 후에는 Solved가 print되지 않을 수 있음(같은 변수명 공유)\n",
    "if \"answer_train_list\" not in locals():\n",
    "    answer_train_list = open_pickle(\"./problem1_answer/answer_train_list.pkl\")\n",
    "if \"answer_valid_list\" not in locals():\n",
    "    answer_valid_list = open_pickle(\"./problem1_answer/answer_valid_list.pkl\")\n",
    "if \"answer_train_y\" not in locals():\n",
    "    answer_train_y = open_pickle(\"./problem1_answer/answer_train_y.pkl\")\n",
    "if \"answer_valid_y\" not in locals():\n",
    "    answer_valid_y = open_pickle(\"./problem1_answer/answer_valid_y.pkl\")\n",
    "\n",
    "if  answer_train_list == train_list and\\\n",
    "    answer_valid_list == valid_list and\\\n",
    "    answer_train_y == train_y and\\\n",
    "    answer_valid_y == valid_y :\n",
    "    print(\"Problem #1 Solved\")"
   ]
  },
  {
   "cell_type": "code",
   "execution_count": 11,
   "metadata": {
    "id": "cFrUFz2hHDT8"
   },
   "outputs": [],
   "source": [
    "from sklearn.preprocessing import MinMaxScaler\n",
    "\n",
    "#TODO2\n",
    "scaler = MinMaxScaler()\n",
    "\n",
    "scaler.fit(train_list)\n",
    "train_X = scaler.transform(train_list)\n",
    "\n",
    "scaler_ = MinMaxScaler()\n",
    "\n",
    "scaler_.fit(valid_list)\n",
    "valid_X = scaler.transform(valid_list)"
   ]
  },
  {
   "cell_type": "code",
   "execution_count": 12,
   "metadata": {
    "colab": {
     "base_uri": "https://localhost:8080/"
    },
    "id": "HNjQ8EuKHDT9",
    "outputId": "c843cee2-e07f-4cf8-f5c6-bec50f3a2e8c"
   },
   "outputs": [
    {
     "name": "stdout",
     "output_type": "stream",
     "text": [
      "Problem #2 Solved\n"
     ]
    }
   ],
   "source": [
    "if \"answer_train_X\" not in locals():\n",
    "    answer_train_X = open_pickle(\"./problem2_answer/answer_train_X.pkl\")\n",
    "if \"answer_valid_X\" not in locals():\n",
    "    answer_valid_X = open_pickle(\"./problem2_answer/answer_valid_X.pkl\")\n",
    "\n",
    "if  np.array_equal(answer_train_X, train_X) and\\\n",
    "    np.array_equal(answer_valid_X, valid_X):\n",
    "    print(\"Problem #2 Solved\")"
   ]
  },
  {
   "cell_type": "code",
   "execution_count": 13,
   "metadata": {
    "id": "I1XCpEiJHDT9"
   },
   "outputs": [],
   "source": [
    "#학습을 위한 데이터 타입 변환\n",
    "from BCE_model import train, test\n",
    "\n",
    "train_X = train_X.astype(np.float32)\n",
    "valid_X = valid_X.astype(np.float32)\n",
    "train_y = np.array(train_y, dtype=np.float32)\n",
    "valid_y = np.array(valid_y, dtype=np.float32)"
   ]
  },
  {
   "cell_type": "code",
   "execution_count": 14,
   "metadata": {
    "colab": {
     "base_uri": "https://localhost:8080/",
     "height": 49,
     "referenced_widgets": [
      "da3368148c274584b38ade37f53b5391",
      "e093ff6247b94c59a33beb0d872a27f3",
      "4de4950cf59a4ead8e1cd667c8a41f32",
      "9555e32758104a40b69048389c9e36a6",
      "d982e8b2bd92478783682913fe5fffc5",
      "90d720a98c294f9db4548a56b2dbe43d",
      "55c00feafda44a7cb3f5e2bfaa4b35b7",
      "f53b76c922da40fca0fda370f2891b70",
      "4303f1dd479a4a2b89154a2ac43a8be3",
      "ac843b43cb19498c8c3de23af2c9b7b9",
      "f9d8783e21a24ecc8ecc4314693e4b3b"
     ]
    },
    "id": "v56qtpZOHDT-",
    "outputId": "4d122199-3f73-4521-ec22-ce8b50cda047"
   },
   "outputs": [
    {
     "data": {
      "application/vnd.jupyter.widget-view+json": {
       "model_id": "da3368148c274584b38ade37f53b5391",
       "version_major": 2,
       "version_minor": 0
      },
      "text/plain": [
       "  0%|          | 0/32 [00:00<?, ?it/s]"
      ]
     },
     "metadata": {},
     "output_type": "display_data"
    }
   ],
   "source": [
    "# train 데이터 학습 및 valid 데이터 예측\n",
    "model = train(train_X, train_y)\n",
    "predict = test(valid_X, valid_y, model)"
   ]
  },
  {
   "cell_type": "code",
   "execution_count": 15,
   "metadata": {
    "id": "u3HCwN6uHDT-"
   },
   "outputs": [],
   "source": [
    "predict = np.array(predict, dtype=\"float32\")"
   ]
  },
  {
   "cell_type": "code",
   "execution_count": 16,
   "metadata": {
    "id": "PjiXkXAGHDT_"
   },
   "outputs": [],
   "source": [
    "# 성능 평가를 위해 예측 값을 반올림\n",
    "round_valid_y = valid_y.astype(\"int\")\n",
    "round_predict = np.round(predict)"
   ]
  },
  {
   "cell_type": "code",
   "execution_count": 17,
   "metadata": {
    "colab": {
     "base_uri": "https://localhost:8080/"
    },
    "id": "d-UEpjf0lmad",
    "outputId": "1118e419-f40d-4d29-8d02-19b162666d95"
   },
   "outputs": [
    {
     "name": "stdout",
     "output_type": "stream",
     "text": [
      "confusion_matrix\n",
      " [[186414   3859]\n",
      " [  1797 133490]]\n",
      "accuracy\t:  0.98263\n",
      "precision\t:  0.97190\n",
      "recall\t\t:  0.98672\n",
      "F-1\t\t:  0.97925\n"
     ]
    }
   ],
   "source": [
    "# 플로우 기준 이상 탐지 성능 평가\n",
    "from sklearn.metrics import accuracy_score, precision_score, recall_score, f1_score, confusion_matrix\n",
    "\n",
    "print(\"confusion_matrix\\n\", confusion_matrix(round_valid_y, round_predict))\n",
    "print(f\"accuracy\\t: {accuracy_score(round_valid_y, round_predict): .5f}\")\n",
    "print(f\"precision\\t: {precision_score(round_valid_y, round_predict): .5f}\")\n",
    "print(f\"recall\\t\\t: {recall_score(round_valid_y, round_predict): .5f}\")\n",
    "print(f\"F-1\\t\\t: {f1_score(round_valid_y, round_predict): .5f}\")"
   ]
  },
  {
   "cell_type": "code",
   "execution_count": 18,
   "metadata": {
    "id": "IgtobE2nHDT_"
   },
   "outputs": [],
   "source": [
    "# 정상 외부 IP set\n",
    "outer_benignIP_set = open_pickle(\"./outer_benign_IP.pkl\")\n",
    "# 악성 외부 IP set\n",
    "outer_malIP_set = open_pickle(\"./outer_mal_IP.pkl\")"
   ]
  },
  {
   "cell_type": "code",
   "execution_count": 19,
   "metadata": {
    "colab": {
     "base_uri": "https://localhost:8080/"
    },
    "id": "bE6629FQHDUA",
    "outputId": "302b1f93-7eb8-4e31-84d7-1f1e75f65177"
   },
   "outputs": [
    {
     "data": {
      "text/plain": [
       "(590, 457)"
      ]
     },
     "execution_count": 19,
     "metadata": {},
     "output_type": "execute_result"
    }
   ],
   "source": [
    "#외부 IP의 악성, 정상 개수 확인\n",
    "len(outer_benignIP_set), len(outer_malIP_set)"
   ]
  },
  {
   "cell_type": "code",
   "execution_count": 20,
   "metadata": {
    "id": "FVlf70mIHDUA"
   },
   "outputs": [],
   "source": [
    "# Problem #3을 위해 dictionary형태로 변경\n",
    "labelIP_dict = dict()\n",
    "\n",
    "for ip in outer_benignIP_set:\n",
    "    labelIP_dict[ip] = 0\n",
    "for ip in outer_malIP_set:\n",
    "    labelIP_dict[ip] = 1"
   ]
  },
  {
   "cell_type": "code",
   "execution_count": null,
   "metadata": {
    "id": "H5iSIbvRHDUA"
   },
   "outputs": [],
   "source": [
    "#TODO3\n",
    "from collections import defaultdict\n",
    "\n",
    "theta = 0.1 # example\n",
    "\n",
    "# 정답을 위한 것\n",
    "predictIP_dict = defaultdict()\n",
    "# 외부 IP별로 dataframe의 전체 flow를 담을 사전 \n",
    "groupIP_dict = defaultdict(list)\n",
    "\n",
    "# 기본 외부 IP 지정\n",
    "for i in valid_df['Src IP']:\n",
    "    if i in labelIP_dict:\n",
    "        predictIP_dict[i] = 0\n",
    "\n",
    "for i in valid_df['Dst IP']:\n",
    "    if i in labelIP_dict:\n",
    "        predictIP_dict[i] = 0\n",
    "\n",
    "# 이상값 변화, IP별 그룹핑, 각 IP값에 해당 flow가 추가될 것임\n",
    "for i, pred in enumerate(predict):\n",
    "    if valid_df['Src IP'][i] in labelIP_dict:\n",
    "        if pred >= theta:\n",
    "            predictIP_dict[valid_df['Src IP'][i]] = 1\n",
    "        groupIP_dict[valid_df['Src IP'][i]].append(valid_df.loc[i])\n",
    "    if valid_df['Dst IP'][i] in labelIP_dict:\n",
    "        if pred >= theta:\n",
    "            predictIP_dict[valid_df['Dst IP'][i]] = 1\n",
    "        groupIP_dict[valid_df['Dst IP'][i]].append(valid_df.loc[i])\n",
    "\n",
    "# 빠지는 케이스 있는지 검증\n",
    "print(len(valid_df))\n",
    "cnt = 0\n",
    "for val in groupIP_dict.values():\n",
    "    for indi in val:\n",
    "        cnt += 1\n",
    "print(cnt)\n",
    "print(len(groupIP_dict.keys()))"
   ]
  },
  {
   "cell_type": "code",
   "execution_count": 22,
   "metadata": {
    "colab": {
     "base_uri": "https://localhost:8080/"
    },
    "id": "p1XAPcQWHDUB",
    "outputId": "ab055be6-14d0-4dd4-9177-e231cdb8da68"
   },
   "outputs": [
    {
     "name": "stdout",
     "output_type": "stream",
     "text": [
      "Problem #3 Solved\n"
     ]
    }
   ],
   "source": [
    "if \"answer_predictIP_dict\" not in locals():\n",
    "    answer_predictIP_dict = open_pickle(\"./problem3_answer/answer_predictIP_dict.pkl\")\n",
    "\n",
    "if  predictIP_dict == answer_predictIP_dict:\n",
    "    print(\"Problem #3 Solved\")"
   ]
  },
  {
   "cell_type": "code",
   "execution_count": 23,
   "metadata": {
    "id": "pRK6JxL1AQMw"
   },
   "outputs": [],
   "source": [
    "import pickle\n",
    "\n",
    "with open(\"./answer_predictIP_dict_new.pkl\", 'wb') as f:\n",
    "    pickle.dump(predictIP_dict, f)"
   ]
  },
  {
   "cell_type": "code",
   "execution_count": 24,
   "metadata": {
    "colab": {
     "base_uri": "https://localhost:8080/"
    },
    "id": "ss6PiboDHDUB",
    "outputId": "85f12fb6-9a91-4cca-9319-1e938840aac9"
   },
   "outputs": [
    {
     "name": "stdout",
     "output_type": "stream",
     "text": [
      "confusion_matrix\n",
      " [[380 210]\n",
      " [  5 452]]\n",
      "accuracy\t:  0.79465\n",
      "precision\t:  0.68278\n",
      "recall\t\t:  0.98906\n",
      "F-1\t\t:  0.80786\n"
     ]
    }
   ],
   "source": [
    "# 정답 IP dictionary와 예측 IP dictionary를 비교하여 성능 평가\n",
    "pred_IP = []\n",
    "label_IP = []\n",
    "\n",
    "for k in predictIP_dict.keys():\n",
    "    pred_IP.append(predictIP_dict[k])\n",
    "    label_IP.append(labelIP_dict[k])\n",
    "\n",
    "print(\"confusion_matrix\\n\", confusion_matrix(label_IP, pred_IP))\n",
    "print(f\"accuracy\\t: {accuracy_score(label_IP, pred_IP): .5f}\")\n",
    "print(f\"precision\\t: {precision_score(label_IP, pred_IP): .5f}\")\n",
    "print(f\"recall\\t\\t: {recall_score(label_IP, pred_IP): .5f}\")\n",
    "print(f\"F-1\\t\\t: {f1_score(label_IP, pred_IP): .5f}\")"
   ]
  }
 ],
 "metadata": {
  "accelerator": "GPU",
  "colab": {
   "collapsed_sections": [],
   "provenance": []
  },
  "gpuClass": "standard",
  "kernelspec": {
   "display_name": "Python 3",
   "language": "python",
   "name": "python3"
  },
  "language_info": {
   "codemirror_mode": {
    "name": "ipython",
    "version": 3
   },
   "file_extension": ".py",
   "mimetype": "text/x-python",
   "name": "python",
   "nbconvert_exporter": "python",
   "pygments_lexer": "ipython3",
   "version": "3.8.5"
  },
  "vscode": {
   "interpreter": {
    "hash": "19d1d53a962d236aa061289c2ac16dc8e6d9648c89fe79f459ae9a3493bc67b4"
   }
  },
  "widgets": {
   "application/vnd.jupyter.widget-state+json": {
    "4303f1dd479a4a2b89154a2ac43a8be3": {
     "model_module": "@jupyter-widgets/controls",
     "model_module_version": "1.5.0",
     "model_name": "ProgressStyleModel",
     "state": {
      "_model_module": "@jupyter-widgets/controls",
      "_model_module_version": "1.5.0",
      "_model_name": "ProgressStyleModel",
      "_view_count": null,
      "_view_module": "@jupyter-widgets/base",
      "_view_module_version": "1.2.0",
      "_view_name": "StyleView",
      "bar_color": null,
      "description_width": ""
     }
    },
    "4de4950cf59a4ead8e1cd667c8a41f32": {
     "model_module": "@jupyter-widgets/controls",
     "model_module_version": "1.5.0",
     "model_name": "FloatProgressModel",
     "state": {
      "_dom_classes": [],
      "_model_module": "@jupyter-widgets/controls",
      "_model_module_version": "1.5.0",
      "_model_name": "FloatProgressModel",
      "_view_count": null,
      "_view_module": "@jupyter-widgets/controls",
      "_view_module_version": "1.5.0",
      "_view_name": "ProgressView",
      "bar_style": "success",
      "description": "",
      "description_tooltip": null,
      "layout": "IPY_MODEL_f53b76c922da40fca0fda370f2891b70",
      "max": 32,
      "min": 0,
      "orientation": "horizontal",
      "style": "IPY_MODEL_4303f1dd479a4a2b89154a2ac43a8be3",
      "value": 32
     }
    },
    "55c00feafda44a7cb3f5e2bfaa4b35b7": {
     "model_module": "@jupyter-widgets/controls",
     "model_module_version": "1.5.0",
     "model_name": "DescriptionStyleModel",
     "state": {
      "_model_module": "@jupyter-widgets/controls",
      "_model_module_version": "1.5.0",
      "_model_name": "DescriptionStyleModel",
      "_view_count": null,
      "_view_module": "@jupyter-widgets/base",
      "_view_module_version": "1.2.0",
      "_view_name": "StyleView",
      "description_width": ""
     }
    },
    "90d720a98c294f9db4548a56b2dbe43d": {
     "model_module": "@jupyter-widgets/base",
     "model_module_version": "1.2.0",
     "model_name": "LayoutModel",
     "state": {
      "_model_module": "@jupyter-widgets/base",
      "_model_module_version": "1.2.0",
      "_model_name": "LayoutModel",
      "_view_count": null,
      "_view_module": "@jupyter-widgets/base",
      "_view_module_version": "1.2.0",
      "_view_name": "LayoutView",
      "align_content": null,
      "align_items": null,
      "align_self": null,
      "border": null,
      "bottom": null,
      "display": null,
      "flex": null,
      "flex_flow": null,
      "grid_area": null,
      "grid_auto_columns": null,
      "grid_auto_flow": null,
      "grid_auto_rows": null,
      "grid_column": null,
      "grid_gap": null,
      "grid_row": null,
      "grid_template_areas": null,
      "grid_template_columns": null,
      "grid_template_rows": null,
      "height": null,
      "justify_content": null,
      "justify_items": null,
      "left": null,
      "margin": null,
      "max_height": null,
      "max_width": null,
      "min_height": null,
      "min_width": null,
      "object_fit": null,
      "object_position": null,
      "order": null,
      "overflow": null,
      "overflow_x": null,
      "overflow_y": null,
      "padding": null,
      "right": null,
      "top": null,
      "visibility": null,
      "width": null
     }
    },
    "9555e32758104a40b69048389c9e36a6": {
     "model_module": "@jupyter-widgets/controls",
     "model_module_version": "1.5.0",
     "model_name": "HTMLModel",
     "state": {
      "_dom_classes": [],
      "_model_module": "@jupyter-widgets/controls",
      "_model_module_version": "1.5.0",
      "_model_name": "HTMLModel",
      "_view_count": null,
      "_view_module": "@jupyter-widgets/controls",
      "_view_module_version": "1.5.0",
      "_view_name": "HTMLView",
      "description": "",
      "description_tooltip": null,
      "layout": "IPY_MODEL_ac843b43cb19498c8c3de23af2c9b7b9",
      "placeholder": "​",
      "style": "IPY_MODEL_f9d8783e21a24ecc8ecc4314693e4b3b",
      "value": " 32/32 [08:26&lt;00:00, 15.67s/it, epoch=32, loss=9.807953284428692e-05]"
     }
    },
    "ac843b43cb19498c8c3de23af2c9b7b9": {
     "model_module": "@jupyter-widgets/base",
     "model_module_version": "1.2.0",
     "model_name": "LayoutModel",
     "state": {
      "_model_module": "@jupyter-widgets/base",
      "_model_module_version": "1.2.0",
      "_model_name": "LayoutModel",
      "_view_count": null,
      "_view_module": "@jupyter-widgets/base",
      "_view_module_version": "1.2.0",
      "_view_name": "LayoutView",
      "align_content": null,
      "align_items": null,
      "align_self": null,
      "border": null,
      "bottom": null,
      "display": null,
      "flex": null,
      "flex_flow": null,
      "grid_area": null,
      "grid_auto_columns": null,
      "grid_auto_flow": null,
      "grid_auto_rows": null,
      "grid_column": null,
      "grid_gap": null,
      "grid_row": null,
      "grid_template_areas": null,
      "grid_template_columns": null,
      "grid_template_rows": null,
      "height": null,
      "justify_content": null,
      "justify_items": null,
      "left": null,
      "margin": null,
      "max_height": null,
      "max_width": null,
      "min_height": null,
      "min_width": null,
      "object_fit": null,
      "object_position": null,
      "order": null,
      "overflow": null,
      "overflow_x": null,
      "overflow_y": null,
      "padding": null,
      "right": null,
      "top": null,
      "visibility": null,
      "width": null
     }
    },
    "d982e8b2bd92478783682913fe5fffc5": {
     "model_module": "@jupyter-widgets/base",
     "model_module_version": "1.2.0",
     "model_name": "LayoutModel",
     "state": {
      "_model_module": "@jupyter-widgets/base",
      "_model_module_version": "1.2.0",
      "_model_name": "LayoutModel",
      "_view_count": null,
      "_view_module": "@jupyter-widgets/base",
      "_view_module_version": "1.2.0",
      "_view_name": "LayoutView",
      "align_content": null,
      "align_items": null,
      "align_self": null,
      "border": null,
      "bottom": null,
      "display": null,
      "flex": null,
      "flex_flow": null,
      "grid_area": null,
      "grid_auto_columns": null,
      "grid_auto_flow": null,
      "grid_auto_rows": null,
      "grid_column": null,
      "grid_gap": null,
      "grid_row": null,
      "grid_template_areas": null,
      "grid_template_columns": null,
      "grid_template_rows": null,
      "height": null,
      "justify_content": null,
      "justify_items": null,
      "left": null,
      "margin": null,
      "max_height": null,
      "max_width": null,
      "min_height": null,
      "min_width": null,
      "object_fit": null,
      "object_position": null,
      "order": null,
      "overflow": null,
      "overflow_x": null,
      "overflow_y": null,
      "padding": null,
      "right": null,
      "top": null,
      "visibility": null,
      "width": null
     }
    },
    "da3368148c274584b38ade37f53b5391": {
     "model_module": "@jupyter-widgets/controls",
     "model_module_version": "1.5.0",
     "model_name": "HBoxModel",
     "state": {
      "_dom_classes": [],
      "_model_module": "@jupyter-widgets/controls",
      "_model_module_version": "1.5.0",
      "_model_name": "HBoxModel",
      "_view_count": null,
      "_view_module": "@jupyter-widgets/controls",
      "_view_module_version": "1.5.0",
      "_view_name": "HBoxView",
      "box_style": "",
      "children": [
       "IPY_MODEL_e093ff6247b94c59a33beb0d872a27f3",
       "IPY_MODEL_4de4950cf59a4ead8e1cd667c8a41f32",
       "IPY_MODEL_9555e32758104a40b69048389c9e36a6"
      ],
      "layout": "IPY_MODEL_d982e8b2bd92478783682913fe5fffc5"
     }
    },
    "e093ff6247b94c59a33beb0d872a27f3": {
     "model_module": "@jupyter-widgets/controls",
     "model_module_version": "1.5.0",
     "model_name": "HTMLModel",
     "state": {
      "_dom_classes": [],
      "_model_module": "@jupyter-widgets/controls",
      "_model_module_version": "1.5.0",
      "_model_name": "HTMLModel",
      "_view_count": null,
      "_view_module": "@jupyter-widgets/controls",
      "_view_module_version": "1.5.0",
      "_view_name": "HTMLView",
      "description": "",
      "description_tooltip": null,
      "layout": "IPY_MODEL_90d720a98c294f9db4548a56b2dbe43d",
      "placeholder": "​",
      "style": "IPY_MODEL_55c00feafda44a7cb3f5e2bfaa4b35b7",
      "value": "100%"
     }
    },
    "f53b76c922da40fca0fda370f2891b70": {
     "model_module": "@jupyter-widgets/base",
     "model_module_version": "1.2.0",
     "model_name": "LayoutModel",
     "state": {
      "_model_module": "@jupyter-widgets/base",
      "_model_module_version": "1.2.0",
      "_model_name": "LayoutModel",
      "_view_count": null,
      "_view_module": "@jupyter-widgets/base",
      "_view_module_version": "1.2.0",
      "_view_name": "LayoutView",
      "align_content": null,
      "align_items": null,
      "align_self": null,
      "border": null,
      "bottom": null,
      "display": null,
      "flex": null,
      "flex_flow": null,
      "grid_area": null,
      "grid_auto_columns": null,
      "grid_auto_flow": null,
      "grid_auto_rows": null,
      "grid_column": null,
      "grid_gap": null,
      "grid_row": null,
      "grid_template_areas": null,
      "grid_template_columns": null,
      "grid_template_rows": null,
      "height": null,
      "justify_content": null,
      "justify_items": null,
      "left": null,
      "margin": null,
      "max_height": null,
      "max_width": null,
      "min_height": null,
      "min_width": null,
      "object_fit": null,
      "object_position": null,
      "order": null,
      "overflow": null,
      "overflow_x": null,
      "overflow_y": null,
      "padding": null,
      "right": null,
      "top": null,
      "visibility": null,
      "width": null
     }
    },
    "f9d8783e21a24ecc8ecc4314693e4b3b": {
     "model_module": "@jupyter-widgets/controls",
     "model_module_version": "1.5.0",
     "model_name": "DescriptionStyleModel",
     "state": {
      "_model_module": "@jupyter-widgets/controls",
      "_model_module_version": "1.5.0",
      "_model_name": "DescriptionStyleModel",
      "_view_count": null,
      "_view_module": "@jupyter-widgets/base",
      "_view_module_version": "1.2.0",
      "_view_name": "StyleView",
      "description_width": ""
     }
    }
   }
  }
 },
 "nbformat": 4,
 "nbformat_minor": 1
}
