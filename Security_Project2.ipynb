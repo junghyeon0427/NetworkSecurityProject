{
  "cells": [
    {
      "cell_type": "code",
      "source": [
        "from google.colab import drive\n",
        "drive.mount('/content/drive')"
      ],
      "metadata": {
        "id": "EH2laICRPMdz",
        "colab": {
          "base_uri": "https://localhost:8080/"
        },
        "outputId": "1672209a-95af-4ffe-b1cb-7b9d3c16be91"
      },
      "id": "EH2laICRPMdz",
      "execution_count": null,
      "outputs": [
        {
          "output_type": "stream",
          "name": "stdout",
          "text": [
            "Mounted at /content/drive\n"
          ]
        }
      ]
    },
    {
      "cell_type": "code",
      "source": [
        "%cd '/content/drive/MyDrive/security'"
      ],
      "metadata": {
        "id": "ZNULqO5IPorv",
        "colab": {
          "base_uri": "https://localhost:8080/"
        },
        "outputId": "808d94d6-c528-494f-b024-50495dc9a263"
      },
      "id": "ZNULqO5IPorv",
      "execution_count": null,
      "outputs": [
        {
          "output_type": "stream",
          "name": "stdout",
          "text": [
            "/content/drive/MyDrive/security\n"
          ]
        }
      ]
    },
    {
      "cell_type": "code",
      "execution_count": null,
      "id": "1c70a71f",
      "metadata": {
        "id": "1c70a71f"
      },
      "outputs": [],
      "source": [
        "from Utils import open_pickle\n",
        "import pandas as pd\n",
        "import numpy as np"
      ]
    },
    {
      "cell_type": "code",
      "execution_count": null,
      "id": "330a2b97",
      "metadata": {
        "id": "330a2b97"
      },
      "outputs": [],
      "source": [
        "train_path = r\"./train.csv\"\n",
        "valid_path = r\"./valid.csv\"\n",
        "\n",
        "train_df = pd.read_csv(train_path)\n",
        "valid_df = pd.read_csv(valid_path)"
      ]
    },
    {
      "cell_type": "code",
      "source": [
        "table = ['C', 'E', 'U', 'A', 'P', 'R', 'S', 'F']\n",
        "for i in range(len(table)):\n",
        "    train_df[table[i]] = 0\n",
        "    train_df[table[i]] = np.where(train_df[\"Flags\"].str.contains(table[i]), 1, train_df[table[i]])\n",
        "    valid_df[table[i]] = 0\n",
        "    valid_df[table[i]] = np.where(valid_df[\"Flags\"].str.contains(table[i]), 1, valid_df[table[i]])"
      ],
      "metadata": {
        "id": "V7jSqPIRZF0f"
      },
      "id": "V7jSqPIRZF0f",
      "execution_count": null,
      "outputs": []
    },
    {
      "cell_type": "code",
      "source": [
        "# train Protocol 처리\n",
        "tcp = train_df[train_df[\"Protocol\"] == \"TCP\"].index\n",
        "udp = train_df[train_df[\"Protocol\"] == \"UDP\"].index\n",
        "zero = train_df[train_df[\"Protocol\"] == \"0\"].index\n",
        "\n",
        "train_df['TCP'] = 0\n",
        "train_df['UDP'] = 0\n",
        "train_df['0'] = 0\n",
        "\n",
        "train_df.loc[tcp, 'TCP'] = 1\n",
        "train_df.loc[udp, 'UDP'] = 1\n",
        "train_df.loc[zero, '0'] = 1\n",
        "\n",
        "# valid Protocol 처리\n",
        "tcp1 = valid_df[valid_df[\"Protocol\"] == \"TCP\"].index\n",
        "udp1 = valid_df[valid_df[\"Protocol\"] == \"UDP\"].index\n",
        "zero1 = valid_df[valid_df[\"Protocol\"] == \"0\"].index\n",
        "\n",
        "valid_df['TCP'] = 0\n",
        "valid_df['UDP'] = 0\n",
        "valid_df['0'] = 0\n",
        "\n",
        "valid_df.loc[tcp1, 'TCP'] = 1\n",
        "valid_df.loc[udp1, 'UDP'] = 1\n",
        "valid_df.loc[zero1, '0'] = 1"
      ],
      "metadata": {
        "id": "OuCyEnccU0UX"
      },
      "id": "OuCyEnccU0UX",
      "execution_count": null,
      "outputs": []
    },
    {
      "cell_type": "code",
      "execution_count": null,
      "id": "02361ac8",
      "metadata": {
        "id": "02361ac8"
      },
      "outputs": [],
      "source": [
        "train_df[\"Label\"].replace('Benign_IP', 0, inplace=True)\n",
        "train_df[\"Label\"].replace('Attack_IP', 1, inplace=True)\n",
        "valid_df[\"Label\"].replace('Benign_IP', 0, inplace=True)\n",
        "valid_df[\"Label\"].replace('Attack_IP', 1, inplace=True)\n",
        "\n",
        "# seed값을 주지 않고 섞어서 다른 결과가 나올 수 있음\n",
        "train_df = pd.concat([train_df, valid_df], ignore_index=True)\n",
        "train_df = train_df.sample(frac=1).reset_index(drop=True)\n",
        "\n",
        "valid_df = train_df[:10000]\n",
        "train_df = train_df[10000:]\n",
        "\n",
        "train_y = train_df[\"Label\"].values.tolist()\n",
        "valid_y = valid_df[\"Label\"].values.tolist()\n",
        "\n",
        "train_list = train_df.drop(columns = [\"Src IP\", \"Dst IP\", \"Protocol\", \"Timestamp\", \"Flags\", \"Label\"]).values.tolist() \n",
        "valid_list = valid_df.drop(columns = [\"Src IP\", \"Dst IP\", \"Protocol\", \"Timestamp\", \"Flags\", \"Label\"]).values.tolist()"
      ]
    },
    {
      "cell_type": "code",
      "execution_count": null,
      "id": "20b86108",
      "metadata": {
        "id": "20b86108"
      },
      "outputs": [],
      "source": [
        "from sklearn.preprocessing import MinMaxScaler, StandardScaler\n",
        "\n",
        "# scaler = MinMaxScaler()\n",
        "scaler = StandardScaler()\n",
        "\n",
        "scaler.fit(train_list)\n",
        "train_X = scaler.transform(train_list)\n",
        "\n",
        "# scaler_ = MinMaxScaler()\n",
        "scaler_ = StandardScaler()\n",
        "\n",
        "scaler_.fit(valid_list)\n",
        "valid_X = scaler.transform(valid_list)"
      ]
    },
    {
      "cell_type": "code",
      "execution_count": null,
      "id": "654b9740",
      "metadata": {
        "id": "654b9740"
      },
      "outputs": [],
      "source": [
        "train_X = train_X.astype(np.float32)\n",
        "valid_X = valid_X.astype(np.float32)\n",
        "train_y = np.array(train_y, dtype=np.float32)\n",
        "valid_y = np.array(valid_y, dtype=np.float32)"
      ]
    },
    {
      "cell_type": "code",
      "execution_count": null,
      "id": "32229776",
      "metadata": {
        "id": "32229776"
      },
      "outputs": [],
      "source": [
        "from xgboost import XGBClassifier\n",
        "\n",
        "model = XGBClassifier(\n",
        "    learning_rate =0.1,\n",
        "    n_estimators=1500,\n",
        "    max_depth=10,\n",
        "    min_child_weight=1,\n",
        "    gamma=0,\n",
        "    subsample=0.8,\n",
        "    colsample_bytree=0.8,\n",
        "    objective= 'binary:logistic',\n",
        "    nthread=-1,\n",
        "    scale_pos_weight=1,\n",
        "    seed=123,\n",
        "    tree_method='gpu_hist', \n",
        "    gpu_id=0\n",
        ")"
      ]
    },
    {
      "cell_type": "code",
      "execution_count": null,
      "id": "fd45bcb1",
      "metadata": {
        "id": "fd45bcb1"
      },
      "outputs": [],
      "source": [
        "xgboost = model.fit(train_X, train_y)"
      ]
    },
    {
      "cell_type": "code",
      "execution_count": null,
      "id": "14a627eb",
      "metadata": {
        "id": "14a627eb"
      },
      "outputs": [],
      "source": [
        "pred_y = xgboost.predict_proba(valid_X)[:,1]"
      ]
    },
    {
      "cell_type": "code",
      "execution_count": null,
      "id": "5623aa7f",
      "metadata": {
        "id": "5623aa7f"
      },
      "outputs": [],
      "source": [
        "round_valid_y = valid_y.astype(\"int\")\n",
        "round_predict = np.round(pred_y)"
      ]
    },
    {
      "cell_type": "code",
      "execution_count": null,
      "id": "a2906ca6",
      "metadata": {
        "scrolled": true,
        "colab": {
          "base_uri": "https://localhost:8080/"
        },
        "id": "a2906ca6",
        "outputId": "28b14da2-084c-42b8-a4c9-c02dd03a486b"
      },
      "outputs": [
        {
          "output_type": "stream",
          "name": "stdout",
          "text": [
            "confusion_matrix\n",
            " [[5740   53]\n",
            " [  27 4180]]\n",
            "accuracy\t:  0.99200\n",
            "precision\t:  0.98748\n",
            "recall\t\t:  0.99358\n",
            "F-1\t\t:  0.99052\n"
          ]
        }
      ],
      "source": [
        "from sklearn.metrics import accuracy_score, precision_score, recall_score, f1_score, confusion_matrix\n",
        "\n",
        "print(\"confusion_matrix\\n\", confusion_matrix(round_valid_y, round_predict))\n",
        "print(f\"accuracy\\t: {accuracy_score(round_valid_y, round_predict): .5f}\")\n",
        "print(f\"precision\\t: {precision_score(round_valid_y, round_predict): .5f}\")\n",
        "print(f\"recall\\t\\t: {recall_score(round_valid_y, round_predict): .5f}\")\n",
        "print(f\"F-1\\t\\t: {f1_score(round_valid_y, round_predict): .5f}\")"
      ]
    },
    {
      "cell_type": "code",
      "execution_count": null,
      "id": "8e43dfd2",
      "metadata": {
        "id": "8e43dfd2"
      },
      "outputs": [],
      "source": [
        "# 정상 외부 IP set\n",
        "outer_benignIP_set = open_pickle(\"./outer_benign_IP.pkl\")\n",
        "# 악성 외부 IP set\n",
        "outer_malIP_set = open_pickle(\"./outer_mal_IP.pkl\")"
      ]
    },
    {
      "cell_type": "code",
      "execution_count": null,
      "id": "5ef5325d",
      "metadata": {
        "id": "5ef5325d"
      },
      "outputs": [],
      "source": [
        "# Problem #3을 위해 dictionary형태로 변경\n",
        "labelIP_dict = dict()\n",
        "\n",
        "for ip in outer_benignIP_set:\n",
        "    labelIP_dict[ip] = 0\n",
        "for ip in outer_malIP_set:\n",
        "    labelIP_dict[ip] = 1"
      ]
    },
    {
      "cell_type": "code",
      "execution_count": null,
      "id": "d27393d4",
      "metadata": {
        "id": "d27393d4"
      },
      "outputs": [],
      "source": [
        "from collections import defaultdict\n",
        "\n",
        "theta = 0.9\n",
        "\n",
        "# 정답을 위한 것\n",
        "predictIP_dict = defaultdict()\n",
        "# 외부 IP별로 dataframe의 전체 flow를 담을 사전 \n",
        "# groupIP_dict = defaultdict(list)\n",
        "\n",
        "# 기본 외부 IP 지정\n",
        "for i in valid_df['Src IP']:\n",
        "    if i in labelIP_dict:\n",
        "        predictIP_dict[i] = 0\n",
        "\n",
        "for i in valid_df['Dst IP']:\n",
        "    if i in labelIP_dict:\n",
        "        predictIP_dict[i] = 0\n",
        "\n",
        "# 이상값 변화, IP별 그룹핑, 각 IP값에 해당 flow가 추가될 것임\n",
        "for i, pred in enumerate(pred_y):\n",
        "    if valid_df['Src IP'][i] in labelIP_dict:\n",
        "        if pred >= theta:\n",
        "            predictIP_dict[valid_df['Src IP'][i]] = 1\n",
        "        # groupIP_dict[valid_df['Src IP'][i]].append(valid_df.loc[i])\n",
        "\n",
        "    if valid_df['Dst IP'][i] in labelIP_dict:\n",
        "        if pred >= theta:\n",
        "            predictIP_dict[valid_df['Dst IP'][i]] = 1\n",
        "        # groupIP_dict[valid_df['Dst IP'][i]].append(valid_df.loc[i])"
      ]
    },
    {
      "cell_type": "code",
      "execution_count": null,
      "id": "15de5e1c",
      "metadata": {
        "colab": {
          "base_uri": "https://localhost:8080/"
        },
        "id": "15de5e1c",
        "outputId": "f877542a-37fe-4458-b9cd-71796fdc080d"
      },
      "outputs": [
        {
          "output_type": "stream",
          "name": "stdout",
          "text": [
            "confusion_matrix\n",
            " [[363   6]\n",
            " [  2 292]]\n",
            "accuracy\t:  0.98793\n",
            "precision\t:  0.97987\n",
            "recall\t\t:  0.99320\n",
            "F-1\t\t:  0.98649\n"
          ]
        }
      ],
      "source": [
        "# 정답 IP dictionary와 예측 IP dictionary를 비교하여 성능 평가\n",
        "pred_IP = []\n",
        "label_IP = []\n",
        "\n",
        "for k in predictIP_dict.keys():\n",
        "    pred_IP.append(predictIP_dict[k])\n",
        "    label_IP.append(labelIP_dict[k])\n",
        "\n",
        "print(\"confusion_matrix\\n\", confusion_matrix(label_IP, pred_IP))\n",
        "print(f\"accuracy\\t: {accuracy_score(label_IP, pred_IP): .5f}\")\n",
        "print(f\"precision\\t: {precision_score(label_IP, pred_IP): .5f}\")\n",
        "print(f\"recall\\t\\t: {recall_score(label_IP, pred_IP): .5f}\")\n",
        "print(f\"F-1\\t\\t: {f1_score(label_IP, pred_IP): .5f}\")"
      ]
    },
    {
      "cell_type": "markdown",
      "source": [
        "### Test"
      ],
      "metadata": {
        "id": "6q0-Tix9HQyg"
      },
      "id": "6q0-Tix9HQyg"
    },
    {
      "cell_type": "code",
      "source": [
        "outer_ip_set = open_pickle(\"./outer_ip_set.pkl\")\n",
        "\n",
        "test_path = r\"./project2_test.csv\"\n",
        "test_df = pd.read_csv(test_path)\n",
        "\n",
        "table = ['C', 'E', 'U', 'A', 'P', 'R', 'S', 'F']\n",
        "\n",
        "for i in range(len(table)):\n",
        "    test_df[table[i]] = 0\n",
        "    test_df[table[i]] = np.where(test_df[\"Flags\"].str.contains(table[i]), 1, test_df[table[i]])\n",
        "\n",
        "tcp = test_df[test_df[\"Protocol\"] == \"TCP\"].index\n",
        "udp = test_df[test_df[\"Protocol\"] == \"UDP\"].index\n",
        "zero = test_df[test_df[\"Protocol\"] == \"0\"].index\n",
        "\n",
        "test_df['TCP'] = 0\n",
        "test_df['UDP'] = 0\n",
        "test_df['0'] = 0\n",
        "\n",
        "test_df.loc[tcp, 'TCP'] = 1\n",
        "test_df.loc[udp, 'UDP'] = 1\n",
        "test_df.loc[zero, '0'] = 1\n",
        "\n",
        "test_list = test_df.drop(columns = [\"Src IP\", \"Dst IP\", \"Protocol\", \"Timestamp\", \"Flags\"]).values.tolist() \n",
        "\n",
        "scaler2 = StandardScaler()\n",
        "\n",
        "scaler2.fit(test_list)\n",
        "test_X = scaler.transform(test_list)\n",
        "\n",
        "test_X = test_X.astype(np.float32)\n",
        "\n",
        "pred_y = xgboost.predict_proba(test_X)[:,1]\n",
        "\n",
        "from collections import defaultdict\n",
        "\n",
        "theta = 0.9\n",
        "\n",
        "predictIP_dict = defaultdict()\n",
        "\n",
        "for i in test_df['Src IP']:\n",
        "    if i in outer_ip_set:\n",
        "        predictIP_dict[i] = 0\n",
        "\n",
        "for i in test_df['Dst IP']:\n",
        "    if i in outer_ip_set:\n",
        "        predictIP_dict[i] = 0\n",
        "\n",
        "for i, pred in enumerate(pred_y):\n",
        "    if test_df['Src IP'][i] in outer_ip_set:\n",
        "        if pred >= theta:\n",
        "            predictIP_dict[test_df['Src IP'][i]] = 1\n",
        "\n",
        "    if test_df['Dst IP'][i] in outer_ip_set:\n",
        "        if pred >= theta:\n",
        "            predictIP_dict[test_df['Dst IP'][i]] = 1"
      ],
      "metadata": {
        "id": "hKtbRJSYHRm9"
      },
      "id": "hKtbRJSYHRm9",
      "execution_count": null,
      "outputs": []
    },
    {
      "cell_type": "code",
      "source": [
        "res = pd.DataFrame([x for x in zip(list(predictIP_dict.keys()), list(predictIP_dict.values()))])\n",
        "res.columns = ['IP', 'Prediction']\n",
        "res.to_csv(\"result.csv\", index = False)\n",
        "\n",
        "from google.colab import files\n",
        "files.download(\"result.csv\")"
      ],
      "metadata": {
        "id": "VhUtfyOgHkXF",
        "colab": {
          "base_uri": "https://localhost:8080/",
          "height": 17
        },
        "outputId": "8b274490-799e-4b36-e732-19d982430362"
      },
      "id": "VhUtfyOgHkXF",
      "execution_count": null,
      "outputs": [
        {
          "output_type": "display_data",
          "data": {
            "text/plain": [
              "<IPython.core.display.Javascript object>"
            ],
            "application/javascript": [
              "\n",
              "    async function download(id, filename, size) {\n",
              "      if (!google.colab.kernel.accessAllowed) {\n",
              "        return;\n",
              "      }\n",
              "      const div = document.createElement('div');\n",
              "      const label = document.createElement('label');\n",
              "      label.textContent = `Downloading \"${filename}\": `;\n",
              "      div.appendChild(label);\n",
              "      const progress = document.createElement('progress');\n",
              "      progress.max = size;\n",
              "      div.appendChild(progress);\n",
              "      document.body.appendChild(div);\n",
              "\n",
              "      const buffers = [];\n",
              "      let downloaded = 0;\n",
              "\n",
              "      const channel = await google.colab.kernel.comms.open(id);\n",
              "      // Send a message to notify the kernel that we're ready.\n",
              "      channel.send({})\n",
              "\n",
              "      for await (const message of channel.messages) {\n",
              "        // Send a message to notify the kernel that we're ready.\n",
              "        channel.send({})\n",
              "        if (message.buffers) {\n",
              "          for (const buffer of message.buffers) {\n",
              "            buffers.push(buffer);\n",
              "            downloaded += buffer.byteLength;\n",
              "            progress.value = downloaded;\n",
              "          }\n",
              "        }\n",
              "      }\n",
              "      const blob = new Blob(buffers, {type: 'application/binary'});\n",
              "      const a = document.createElement('a');\n",
              "      a.href = window.URL.createObjectURL(blob);\n",
              "      a.download = filename;\n",
              "      div.appendChild(a);\n",
              "      a.click();\n",
              "      div.remove();\n",
              "    }\n",
              "  "
            ]
          },
          "metadata": {}
        },
        {
          "output_type": "display_data",
          "data": {
            "text/plain": [
              "<IPython.core.display.Javascript object>"
            ],
            "application/javascript": [
              "download(\"download_098f277c-7f52-47d4-a32c-1f3765ad3f75\", \"result.csv\", 16917)"
            ]
          },
          "metadata": {}
        }
      ]
    }
  ],
  "metadata": {
    "kernelspec": {
      "display_name": "Python 3 (ipykernel)",
      "language": "python",
      "name": "python3"
    },
    "language_info": {
      "codemirror_mode": {
        "name": "ipython",
        "version": 3
      },
      "file_extension": ".py",
      "mimetype": "text/x-python",
      "name": "python",
      "nbconvert_exporter": "python",
      "pygments_lexer": "ipython3",
      "version": "3.9.15"
    },
    "colab": {
      "provenance": []
    },
    "accelerator": "GPU",
    "gpuClass": "standard"
  },
  "nbformat": 4,
  "nbformat_minor": 5
}